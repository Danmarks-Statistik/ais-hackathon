{
 "cells": [
  {
   "cell_type": "code",
   "execution_count": 2,
   "metadata": {},
   "outputs": [],
   "source": [
    "import feather\n",
    "import pandas as pd\n",
    "\n",
    "df = feather.read_dataframe(f\"c:/Hackathon_2018/data/raw/minute_sampled_2017/ais_combined_2017_12.feather\")"
   ]
  },
  {
   "cell_type": "code",
   "execution_count": 28,
   "metadata": {},
   "outputs": [],
   "source": [
    "df = feather.read_dataframe(f\"c:/Hackathon_2018/data/raw/full_detail_2018_09/aispos/aispos_full_detail.feather\")"
   ]
  },
  {
   "cell_type": "code",
   "execution_count": 2,
   "metadata": {},
   "outputs": [
    {
     "name": "stderr",
     "output_type": "stream",
     "text": [
      "C:\\Anaconda3\\lib\\site-packages\\ipykernel_launcher.py:3: UserWarning: Boolean Series key will be reindexed to match DataFrame index.\n",
      "  This is separate from the ipykernel package so we can avoid doing imports until\n"
     ]
    }
   ],
   "source": [
    "df[df['Sog']<0].head()\n",
    "df.shape\n",
    "df = df[df['Userid']!=0][df['Lon']>7.5][df['Lat']>53][df['Lon']<19.2][df['Lat']<58.653]\n"
   ]
  },
  {
   "cell_type": "code",
   "execution_count": 3,
   "metadata": {},
   "outputs": [
    {
     "name": "stdout",
     "output_type": "stream",
     "text": [
      "(1477023, 16)\n",
      "                Id                 Tid  Aisnum  Repeat     Userid  Status  \\\n",
      "54343  14238928163 2017-12-01 00:01:00       3       0  219000179       5   \n",
      "54344  14238973742 2017-12-01 00:04:00       3       0  219000179       5   \n",
      "54345  14239019661 2017-12-01 00:07:00       3       0  219000179       5   \n",
      "54346  14239065035 2017-12-01 00:10:00       3       0  219000179       5   \n",
      "54347  14239110843 2017-12-01 00:13:00       3       0  219000179       5   \n",
      "\n",
      "       Rot  Sog  Posacc   Cog  Thead  Manind     Lon      Lat  Stype  \\\n",
      "54343    0    0       1  1788    182       0  9.7574  55.5602     51   \n",
      "54344    0    0       1  3522    181       0  9.7574  55.5602     51   \n",
      "54345    0    0       1  2910    181       0  9.7574  55.5602     51   \n",
      "54346    0    0       1  2684    182       0  9.7574  55.5602     51   \n",
      "54347    0    0       1  1926    182       0  9.7574  55.5602     51   \n",
      "\n",
      "                       Navn  \n",
      "54343  MHV 909 SPEDITOEREN   \n",
      "54344  MHV 909 SPEDITOEREN   \n",
      "54345  MHV 909 SPEDITOEREN   \n",
      "54346  MHV 909 SPEDITOEREN   \n",
      "54347  MHV 909 SPEDITOEREN   \n",
      "Empty DataFrame\n",
      "Columns: [Id, Tid, Aisnum, Repeat, Userid, Status, Rot, Sog, Posacc, Cog, Thead, Manind, Lon, Lat, Stype, Navn]\n",
      "Index: []\n",
      "Empty DataFrame\n",
      "Columns: [Id, Tid, Aisnum, Repeat, Userid, Status, Rot, Sog, Posacc, Cog, Thead, Manind, Lon, Lat, Stype, Navn]\n",
      "Index: []\n"
     ]
    }
   ],
   "source": [
    "# Vælg testskibe\n",
    "import numpy as np\n",
    "test = list(pd.Series(np.unique(df['Userid'])).sample(n=100, random_state=50))\n",
    "\n",
    "testdata = df.loc[df['Userid'].isin(test)]\n",
    "print(testdata.shape)\n",
    "print(testdata.head())\n",
    "\n",
    "print(testdata[testdata['Lon']==0])\n",
    "print(testdata[testdata['Lat']==0])"
   ]
  },
  {
   "cell_type": "code",
   "execution_count": 3,
   "metadata": {},
   "outputs": [
    {
     "ename": "NameError",
     "evalue": "name 'testdata' is not defined",
     "output_type": "error",
     "traceback": [
      "\u001b[1;31m---------------------------------------------------------------------------\u001b[0m",
      "\u001b[1;31mNameError\u001b[0m                                 Traceback (most recent call last)",
      "\u001b[1;32m<ipython-input-3-85bb16cf5ddc>\u001b[0m in \u001b[0;36m<module>\u001b[1;34m()\u001b[0m\n\u001b[0;32m      2\u001b[0m \u001b[1;32mimport\u001b[0m \u001b[0mgeopandas\u001b[0m\u001b[1;33m\u001b[0m\u001b[0m\n\u001b[0;32m      3\u001b[0m \u001b[1;33m\u001b[0m\u001b[0m\n\u001b[1;32m----> 4\u001b[1;33m \u001b[0mgeometry\u001b[0m \u001b[1;33m=\u001b[0m \u001b[1;33m[\u001b[0m\u001b[0mPoint\u001b[0m\u001b[1;33m(\u001b[0m\u001b[0mxy\u001b[0m\u001b[1;33m)\u001b[0m \u001b[1;32mfor\u001b[0m \u001b[0mxy\u001b[0m \u001b[1;32min\u001b[0m \u001b[0mzip\u001b[0m\u001b[1;33m(\u001b[0m\u001b[0mtestdata\u001b[0m\u001b[1;33m.\u001b[0m\u001b[0mLon\u001b[0m\u001b[1;33m,\u001b[0m \u001b[0mtestdata\u001b[0m\u001b[1;33m.\u001b[0m\u001b[0mLat\u001b[0m\u001b[1;33m)\u001b[0m\u001b[1;33m]\u001b[0m\u001b[1;33m\u001b[0m\u001b[0m\n\u001b[0m\u001b[0;32m      5\u001b[0m \u001b[1;31m# df = df.drop(['Lon', 'Lat'], axis=1)\u001b[0m\u001b[1;33m\u001b[0m\u001b[1;33m\u001b[0m\u001b[0m\n\u001b[0;32m      6\u001b[0m \u001b[0mcrs\u001b[0m \u001b[1;33m=\u001b[0m \u001b[1;33m{\u001b[0m\u001b[1;34m'init'\u001b[0m\u001b[1;33m:\u001b[0m \u001b[1;34m'epsg:4326'\u001b[0m\u001b[1;33m}\u001b[0m\u001b[1;33m\u001b[0m\u001b[0m\n",
      "\u001b[1;31mNameError\u001b[0m: name 'testdata' is not defined"
     ]
    }
   ],
   "source": [
    "from shapely.geometry import Point\n",
    "import geopandas\n",
    "\n",
    "geometry = [Point(xy) for xy in zip(testdata.Lon, testdata.Lat)]\n",
    "# df = df.drop(['Lon', 'Lat'], axis=1)\n",
    "crs = {'init': 'epsg:4326'}\n",
    "gdf = geopandas.GeoDataFrame(testdata, crs=crs, geometry=geometry)"
   ]
  },
  {
   "cell_type": "markdown",
   "metadata": {},
   "source": [
    "### Havneinstallationer og Esbjerg havn med buffer"
   ]
  },
  {
   "cell_type": "code",
   "execution_count": 4,
   "metadata": {},
   "outputs": [
    {
     "name": "stderr",
     "output_type": "stream",
     "text": [
      "C:\\Anaconda3\\lib\\site-packages\\ipykernel_launcher.py:10: SettingWithCopyWarning: \n",
      "A value is trying to be set on a copy of a slice from a DataFrame.\n",
      "Try using .loc[row_indexer,col_indexer] = value instead\n",
      "\n",
      "See the caveats in the documentation: http://pandas.pydata.org/pandas-docs/stable/indexing.html#indexing-view-versus-copy\n",
      "  # Remove the CWD from sys.path while we load stuff.\n"
     ]
    },
    {
     "data": {
      "text/plain": [
       "(1, 14)"
      ]
     },
     "execution_count": 4,
     "metadata": {},
     "output_type": "execute_result"
    }
   ],
   "source": [
    "url = r'C:\\Hackathon_2018\\data\\geo/'\n",
    "havn = geopandas.read_file(url +'havn.shp').to_crs({'init': 'epsg:4326'})\n",
    "\n",
    "tmp = havn[havn['HAVNTYPE'] == 'Kyst']\n",
    "havn = tmp[tmp['UNDER_MIN'] == 'f']\n",
    "del(tmp)\n",
    "\n",
    "havn_sample = havn[havn['FOT_ID']==1113091071]  #.sample(n=1, random_state=4598)\n",
    "\n",
    "havn_sample['storcirkel'] = havn_sample.buffer(.005)\n",
    "\n",
    "havn_sample=havn_sample.set_geometry('storcirkel')\n",
    "\n",
    "havn_sample.geometry.name\n",
    "havn_sample.shape\n"
   ]
  },
  {
   "cell_type": "markdown",
   "metadata": {},
   "source": [
    "### Hent Danmarkskort"
   ]
  },
  {
   "cell_type": "code",
   "execution_count": 5,
   "metadata": {},
   "outputs": [
    {
     "data": {
      "text/html": [
       "<div>\n",
       "<style scoped>\n",
       "    .dataframe tbody tr th:only-of-type {\n",
       "        vertical-align: middle;\n",
       "    }\n",
       "\n",
       "    .dataframe tbody tr th {\n",
       "        vertical-align: top;\n",
       "    }\n",
       "\n",
       "    .dataframe thead th {\n",
       "        text-align: right;\n",
       "    }\n",
       "</style>\n",
       "<table border=\"1\" class=\"dataframe\">\n",
       "  <thead>\n",
       "    <tr style=\"text-align: right;\">\n",
       "      <th></th>\n",
       "      <th>id</th>\n",
       "      <th>CNTR_CODE</th>\n",
       "      <th>NUTS_NAME</th>\n",
       "      <th>LEVL_CODE</th>\n",
       "      <th>FID</th>\n",
       "      <th>NUTS_ID</th>\n",
       "      <th>geometry</th>\n",
       "    </tr>\n",
       "  </thead>\n",
       "  <tbody>\n",
       "    <tr>\n",
       "      <th>584</th>\n",
       "      <td>DK032</td>\n",
       "      <td>DK</td>\n",
       "      <td>Sydjylland</td>\n",
       "      <td>3</td>\n",
       "      <td>DK032</td>\n",
       "      <td>DK032</td>\n",
       "      <td>(POLYGON ((9.38701 55.92415, 9.3887 55.9211400...</td>\n",
       "    </tr>\n",
       "  </tbody>\n",
       "</table>\n",
       "</div>"
      ],
      "text/plain": [
       "        id CNTR_CODE   NUTS_NAME  LEVL_CODE    FID NUTS_ID  \\\n",
       "584  DK032        DK  Sydjylland          3  DK032   DK032   \n",
       "\n",
       "                                              geometry  \n",
       "584  (POLYGON ((9.38701 55.92415, 9.3887 55.9211400...  "
      ]
     },
     "execution_count": 5,
     "metadata": {},
     "output_type": "execute_result"
    }
   ],
   "source": [
    "url = r'C:\\Hackathon_2018\\data\\geo/NUTS_RG_01M_2016_4326_LEVL_3.geojson'\n",
    "nuts3 = geopandas.read_file(url)\n",
    "nuts3_dk = nuts3[nuts3['FID'].isin(['DK032'])]\n",
    "# nuts3_dk = nuts3[nuts3['CNTR_CODE'].isin(['DK'])]\n",
    "nuts3_dk2 = nuts3_dk.to_crs({'init': 'epsg:4326'})\n",
    "\n",
    "nuts3_dk2"
   ]
  },
  {
   "cell_type": "code",
   "execution_count": 55,
   "metadata": {},
   "outputs": [
    {
     "name": "stdout",
     "output_type": "stream",
     "text": [
      "Procestiden har været 1 minutter og 21.96 sekunder.\n"
     ]
    },
    {
     "data": {
      "image/png": "[encoded data removed]",
      "text/plain": [
       "<Figure size 1440x1080 with 1 Axes>"
      ]
     },
     "metadata": {},
     "output_type": "display_data"
    }
   ],
   "source": [
    "import geopandas\n",
    "from matplotlib import pyplot as plt\n",
    "import time\n",
    "t0 = time.time()\n",
    "\n",
    "fig, ax = plt.subplots(figsize=(20,15))\n",
    "# nuts3_dk2.plot(ax=ax, color='Lightgreen')\n",
    "\n",
    "havn_sample.plot(ax=ax, color=\"Yellow\")\n",
    "# havn2.plot(ax=ax, color=\"Blue\")\n",
    "\n",
    "# gdf.plot(ax=ax, column='Userid', markersize=2, marker='*', color=\"Red\")\n",
    "\n",
    "# gdf_esbjerg.plot(ax=ax, column='Userid', markersize=2, marker='*')\n",
    "in_port2.plot(ax=ax, markersize=5, marker='*', color=\"Red\")\n",
    "ax.set_axis_off()\n",
    "\n",
    "# ax.set_title('Skibe. September 2018', loc='center',\n",
    "#              fontdict={'family': 'Times New Roman', 'fontsize': '20', 'fontweight': 3})\n",
    "fig.savefig(\"Esbjerg.png\")\n",
    "\n",
    "t1 = time.time()\n",
    "dt = t1 - t0\n",
    "print(\"Procestiden har været {} minutter og {} sekunder.\".format(int(dt / 60), round(dt%60, 2)))"
   ]
  },
  {
   "cell_type": "code",
   "execution_count": 41,
   "metadata": {},
   "outputs": [
    {
     "name": "stderr",
     "output_type": "stream",
     "text": [
      "C:\\Anaconda3\\lib\\site-packages\\ipykernel_launcher.py:1: UserWarning: Boolean Series key will be reindexed to match DataFrame index.\n",
      "  \"\"\"Entry point for launching an IPython kernel.\n"
     ]
    },
    {
     "name": "stdout",
     "output_type": "stream",
     "text": [
      "(3808716, 16)\n",
      "            Id                 Tid  Aisnum  Repeat   Userid  Status  Rot  Sog  \\\n",
      "0  14238916187 2017-12-01 00:00:00       1       0  2190045      15  128    0   \n",
      "1  14238923698 2017-12-01 00:01:00       1       0  2190045      15  128    0   \n",
      "2  14238939086 2017-12-01 00:02:00       1       0  2190045      15  128    0   \n",
      "3  14238954392 2017-12-01 00:03:00       1       0  2190045      15  128    0   \n",
      "4  14238969703 2017-12-01 00:04:00       1       0  2190045      15  128    0   \n",
      "\n",
      "   Posacc   Cog  Thead  Manind     Lon      Lat  Stype                  Navn  \n",
      "0       0  2179    511       0  8.4233  55.4718     10  ESBJERG HARBOUR       \n",
      "1       0  2456    511       0  8.4233  55.4718     10  ESBJERG HARBOUR       \n",
      "2       0  3116    511       0  8.4233  55.4718     10  ESBJERG HARBOUR       \n",
      "3       0  2599    511       0  8.4233  55.4718     10  ESBJERG HARBOUR       \n",
      "4       0  2976    511       0  8.4234  55.4718     10  ESBJERG HARBOUR       \n"
     ]
    }
   ],
   "source": [
    "df_esbjerg = df[df['Userid']!=0][df['Lon']>8.3002][df['Lat']>55.4132][df['Lon']<8.5615][df['Lat']<55.5418].reset_index(drop=True)\n",
    "\n",
    "print (df_esbjerg.shape)\n",
    "print(df_esbjerg.head())\n",
    "\n",
    "geometry = [Point(xy) for xy in zip(df_esbjerg.Lon, df_esbjerg.Lat)]\n",
    "# df = df.drop(['Lon', 'Lat'], axis=1)\n",
    "crs = {'init': 'epsg:4326'}\n",
    "gdf_esbjerg = geopandas.GeoDataFrame(df_esbjerg, crs=crs, geometry=geometry)\n"
   ]
  },
  {
   "cell_type": "code",
   "execution_count": 149,
   "metadata": {},
   "outputs": [
    {
     "data": {
      "text/html": [
       "<div>\n",
       "<style scoped>\n",
       "    .dataframe tbody tr th:only-of-type {\n",
       "        vertical-align: middle;\n",
       "    }\n",
       "\n",
       "    .dataframe tbody tr th {\n",
       "        vertical-align: top;\n",
       "    }\n",
       "\n",
       "    .dataframe thead th {\n",
       "        text-align: right;\n",
       "    }\n",
       "</style>\n",
       "<table border=\"1\" class=\"dataframe\">\n",
       "  <thead>\n",
       "    <tr style=\"text-align: right;\">\n",
       "      <th></th>\n",
       "      <th>country</th>\n",
       "      <th>mca</th>\n",
       "      <th>unLocode</th>\n",
       "      <th>name</th>\n",
       "      <th>nuts3</th>\n",
       "      <th>lon</th>\n",
       "      <th>lat</th>\n",
       "      <th>flon</th>\n",
       "      <th>flat</th>\n",
       "      <th>geometry</th>\n",
       "    </tr>\n",
       "  </thead>\n",
       "  <tbody>\n",
       "    <tr>\n",
       "      <th>0</th>\n",
       "      <td>DK</td>\n",
       "      <td>DK00</td>\n",
       "      <td>DKAAB</td>\n",
       "      <td>Aabenraa</td>\n",
       "      <td>DK032</td>\n",
       "      <td>9.417580</td>\n",
       "      <td>55.035686</td>\n",
       "      <td>9.417580</td>\n",
       "      <td>55.035686</td>\n",
       "      <td>POINT (9.417579651 55.03568649)</td>\n",
       "    </tr>\n",
       "    <tr>\n",
       "      <th>1</th>\n",
       "      <td>DK</td>\n",
       "      <td>DK00</td>\n",
       "      <td>DKAAL</td>\n",
       "      <td>Aalborg</td>\n",
       "      <td>DK050</td>\n",
       "      <td>9.916667</td>\n",
       "      <td>57.050000</td>\n",
       "      <td>9.916667</td>\n",
       "      <td>57.050000</td>\n",
       "      <td>POINT (9.916666666999999 57.05)</td>\n",
       "    </tr>\n",
       "    <tr>\n",
       "      <th>2</th>\n",
       "      <td>DK</td>\n",
       "      <td>DK00</td>\n",
       "      <td>DKAAR</td>\n",
       "      <td>Arhus</td>\n",
       "      <td>DK042</td>\n",
       "      <td>10.222687</td>\n",
       "      <td>56.141490</td>\n",
       "      <td>10.222687</td>\n",
       "      <td>56.141490</td>\n",
       "      <td>POINT (10.22268716 56.1414896)</td>\n",
       "    </tr>\n",
       "    <tr>\n",
       "      <th>3</th>\n",
       "      <td>DK</td>\n",
       "      <td>DK00</td>\n",
       "      <td>DKAGH</td>\n",
       "      <td>Agger Havn</td>\n",
       "      <td>DK050</td>\n",
       "      <td>8.250000</td>\n",
       "      <td>56.783333</td>\n",
       "      <td>8.250000</td>\n",
       "      <td>56.783333</td>\n",
       "      <td>POINT (8.25 56.78333333)</td>\n",
       "    </tr>\n",
       "    <tr>\n",
       "      <th>4</th>\n",
       "      <td>DK</td>\n",
       "      <td>DK00</td>\n",
       "      <td>DKAGO</td>\n",
       "      <td>Agerso</td>\n",
       "      <td>DK022</td>\n",
       "      <td>11.196606</td>\n",
       "      <td>55.216454</td>\n",
       "      <td>11.196606</td>\n",
       "      <td>55.216454</td>\n",
       "      <td>POINT (11.19660557 55.216454)</td>\n",
       "    </tr>\n",
       "  </tbody>\n",
       "</table>\n",
       "</div>"
      ],
      "text/plain": [
       "  country   mca unLocode        name  nuts3        lon        lat       flon  \\\n",
       "0      DK  DK00    DKAAB    Aabenraa  DK032   9.417580  55.035686   9.417580   \n",
       "1      DK  DK00    DKAAL     Aalborg  DK050   9.916667  57.050000   9.916667   \n",
       "2      DK  DK00    DKAAR       Arhus  DK042  10.222687  56.141490  10.222687   \n",
       "3      DK  DK00    DKAGH  Agger Havn  DK050   8.250000  56.783333   8.250000   \n",
       "4      DK  DK00    DKAGO      Agerso  DK022  11.196606  55.216454  11.196606   \n",
       "\n",
       "        flat                         geometry  \n",
       "0  55.035686  POINT (9.417579651 55.03568649)  \n",
       "1  57.050000  POINT (9.916666666999999 57.05)  \n",
       "2  56.141490   POINT (10.22268716 56.1414896)  \n",
       "3  56.783333         POINT (8.25 56.78333333)  \n",
       "4  55.216454    POINT (11.19660557 55.216454)  "
      ]
     },
     "execution_count": 149,
     "metadata": {},
     "output_type": "execute_result"
    }
   ],
   "source": [
    "geohavn = pd.read_csv(r'C:\\Hackathon_2018\\data\\havne/statistiske havne dk.csv')\n",
    "geohavn.head()"
   ]
  },
  {
   "cell_type": "code",
   "execution_count": 52,
   "metadata": {},
   "outputs": [],
   "source": [
    "from geopandas.tools import sjoin\n",
    "\n",
    "in_port = sjoin(left_df=gdf_esbjerg, right_df=havn_sample, how=('inner'))\n",
    "\n",
    "# gdf_esbjerg.reset_index(inplace=True, drop=True)\n",
    "# tf = gdf_esbjerg.within(havn_sample)\n",
    "# in_port = gdf_esbjerg[tf]\n",
    "\n",
    "\n",
    "# print (in_port[in_port==True])\n",
    "\n",
    "\n",
    "# print (havn_sample.head())\n",
    "\n",
    "# gdf_esbjerg.within(havn2)==True"
   ]
  },
  {
   "cell_type": "code",
   "execution_count": 53,
   "metadata": {},
   "outputs": [],
   "source": [
    "geometry = [Point(xy) for xy in zip(in_port.Lon, in_port.Lat)]\n",
    "# df = df.drop(['Lon', 'Lat'], axis=1)\n",
    "crs = {'init': 'epsg:4326'}\n",
    "in_port2 = geopandas.GeoDataFrame(in_port, crs=crs, geometry=geometry)\n"
   ]
  },
  {
   "cell_type": "code",
   "execution_count": 80,
   "metadata": {},
   "outputs": [
    {
     "ename": "TypeError",
     "evalue": "cannot convert the series to <class 'int'>",
     "output_type": "error",
     "traceback": [
      "\u001b[1;31m---------------------------------------------------------------------------\u001b[0m",
      "\u001b[1;31mTypeError\u001b[0m                                 Traceback (most recent call last)",
      "\u001b[1;32m<ipython-input-80-1b0dd039bfc2>\u001b[0m in \u001b[0;36m<module>\u001b[1;34m()\u001b[0m\n\u001b[0;32m      1\u001b[0m \u001b[1;32mimport\u001b[0m \u001b[0mdatetime\u001b[0m\u001b[1;33m\u001b[0m\u001b[0m\n\u001b[0;32m      2\u001b[0m \u001b[1;33m\u001b[0m\u001b[0m\n\u001b[1;32m----> 3\u001b[1;33m \u001b[0min_port3\u001b[0m \u001b[1;33m=\u001b[0m \u001b[0min_port2\u001b[0m\u001b[1;33m.\u001b[0m\u001b[0mdrop_duplicates\u001b[0m\u001b[1;33m(\u001b[0m\u001b[0msubset\u001b[0m\u001b[1;33m=\u001b[0m\u001b[1;33m[\u001b[0m\u001b[1;34m'Userid'\u001b[0m\u001b[1;33m,\u001b[0m\u001b[0mtime\u001b[0m\u001b[1;33m.\u001b[0m\u001b[0mstrftime\u001b[0m\u001b[1;33m(\u001b[0m\u001b[1;34m\"%j\"\u001b[0m\u001b[1;33m,\u001b[0m \u001b[0mtime\u001b[0m\u001b[1;33m.\u001b[0m\u001b[0mgmtime\u001b[0m\u001b[1;33m(\u001b[0m\u001b[0min_port2\u001b[0m\u001b[1;33m[\u001b[0m\u001b[1;34m'Tid'\u001b[0m\u001b[1;33m]\u001b[0m\u001b[1;33m)\u001b[0m\u001b[1;33m)\u001b[0m\u001b[1;33m]\u001b[0m\u001b[1;33m,\u001b[0m \u001b[0mkeep\u001b[0m\u001b[1;33m=\u001b[0m\u001b[1;34m'first'\u001b[0m\u001b[1;33m)\u001b[0m\u001b[1;33m\u001b[0m\u001b[0m\n\u001b[0m\u001b[0;32m      4\u001b[0m \u001b[0min_port3\u001b[0m\u001b[1;33m.\u001b[0m\u001b[0mshape\u001b[0m\u001b[1;33m\u001b[0m\u001b[0m\n",
      "\u001b[1;32mC:\\Anaconda3\\lib\\site-packages\\pandas\\core\\series.py\u001b[0m in \u001b[0;36mwrapper\u001b[1;34m(self)\u001b[0m\n\u001b[0;32m    115\u001b[0m             \u001b[1;32mreturn\u001b[0m \u001b[0mconverter\u001b[0m\u001b[1;33m(\u001b[0m\u001b[0mself\u001b[0m\u001b[1;33m.\u001b[0m\u001b[0miloc\u001b[0m\u001b[1;33m[\u001b[0m\u001b[1;36m0\u001b[0m\u001b[1;33m]\u001b[0m\u001b[1;33m)\u001b[0m\u001b[1;33m\u001b[0m\u001b[0m\n\u001b[0;32m    116\u001b[0m         raise TypeError(\"cannot convert the series to \"\n\u001b[1;32m--> 117\u001b[1;33m                         \"{0}\".format(str(converter)))\n\u001b[0m\u001b[0;32m    118\u001b[0m \u001b[1;33m\u001b[0m\u001b[0m\n\u001b[0;32m    119\u001b[0m     \u001b[1;32mreturn\u001b[0m \u001b[0mwrapper\u001b[0m\u001b[1;33m\u001b[0m\u001b[0m\n",
      "\u001b[1;31mTypeError\u001b[0m: cannot convert the series to <class 'int'>"
     ]
    }
   ],
   "source": [
    "import datetime\n",
    "\n",
    "in_port3 = in_port2.drop_duplicates(subset=['Userid', in_port2['Tid'].timetuple().tm_yday], keep='first')\n",
    "in_port3.shape"
   ]
  },
  {
   "cell_type": "code",
   "execution_count": 116,
   "metadata": {},
   "outputs": [
    {
     "name": "stdout",
     "output_type": "stream",
     "text": [
      "count                 3720313\n",
      "unique                  43811\n",
      "top       2017-12-07 00:00:00\n",
      "freq                      171\n",
      "first     2017-12-01 00:00:00\n",
      "last      2018-01-01 00:00:00\n",
      "Name: Tid, dtype: object\n",
      "2012-05-01T01:00:00.000000\n"
     ]
    },
    {
     "ename": "TypeError",
     "evalue": "Cannot convert input [0         2017-12-01 00:00:00\n1         2017-12-01 00:01:00\n2         2017-12-01 00:02:00\n3         2017-12-01 00:03:00\n4         2017-12-01 00:04:00\n5         2017-12-01 00:05:00\n6         2017-12-01 00:06:00\n7         2017-12-01 00:07:00\n8         2017-12-01 00:08:00\n9         2017-12-01 00:09:00\n10        2017-12-01 00:10:00\n11        2017-12-01 00:11:00\n12        2017-12-01 00:12:00\n13        2017-12-01 00:13:00\n14        2017-12-01 00:14:00\n15        2017-12-01 00:15:00\n16        2017-12-01 00:16:00\n17        2017-12-01 00:17:00\n18        2017-12-01 00:18:00\n19        2017-12-01 00:19:00\n20        2017-12-01 00:20:00\n21        2017-12-01 00:21:00\n22        2017-12-01 00:22:00\n23        2017-12-01 00:23:00\n24        2017-12-01 00:24:00\n25        2017-12-01 00:25:00\n26        2017-12-01 00:26:00\n27        2017-12-01 00:27:00\n28        2017-12-01 00:28:00\n29        2017-12-01 00:29:00\n                  ...        \n3808686   2017-12-31 22:31:00\n3808687   2017-12-31 22:34:00\n3808688   2017-12-31 22:37:00\n3808689   2017-12-31 22:40:00\n3808690   2017-12-31 22:43:00\n3808691   2017-12-31 22:46:00\n3808692   2017-12-31 22:49:00\n3808693   2017-12-31 22:52:00\n3808694   2017-12-31 22:55:00\n3808695   2017-12-31 22:58:00\n3808696   2017-12-31 23:01:00\n3808697   2017-12-31 23:04:00\n3808698   2017-12-31 23:07:00\n3808699   2017-12-31 23:10:00\n3808700   2017-12-31 23:13:00\n3808701   2017-12-31 23:16:00\n3808702   2017-12-31 23:19:00\n3808703   2017-12-31 23:22:00\n3808704   2017-12-31 23:25:00\n3808705   2017-12-31 23:28:00\n3808706   2017-12-31 23:31:00\n3808707   2017-12-31 23:34:00\n3808708   2017-12-31 23:37:00\n3808709   2017-12-31 23:40:00\n3808710   2017-12-31 23:43:00\n3808711   2017-12-31 23:46:00\n3808712   2017-12-31 23:49:00\n3808713   2017-12-31 23:52:00\n3808714   2017-12-31 23:55:00\n3808715   2017-12-31 23:58:00\nName: Tid, Length: 3720313, dtype: datetime64[ns]] of type <class 'pandas.core.series.Series'> to Timestamp",
     "output_type": "error",
     "traceback": [
      "\u001b[1;31m---------------------------------------------------------------------------\u001b[0m",
      "\u001b[1;31mTypeError\u001b[0m                                 Traceback (most recent call last)",
      "\u001b[1;32m<ipython-input-116-7bbf705131d6>\u001b[0m in \u001b[0;36m<module>\u001b[1;34m()\u001b[0m\n\u001b[0;32m      9\u001b[0m \u001b[1;31m# pandas.Timestamp(numpy.datetime64('2012-05-01T01:00:00.000000')).dayofyear\u001b[0m\u001b[1;33m\u001b[0m\u001b[1;33m\u001b[0m\u001b[0m\n\u001b[0;32m     10\u001b[0m \u001b[1;33m\u001b[0m\u001b[0m\n\u001b[1;32m---> 11\u001b[1;33m \u001b[0mts\u001b[0m \u001b[1;33m=\u001b[0m \u001b[0mpd\u001b[0m\u001b[1;33m.\u001b[0m\u001b[0mTimestamp\u001b[0m\u001b[1;33m(\u001b[0m\u001b[0min_port2\u001b[0m\u001b[1;33m[\u001b[0m\u001b[1;34m'Tid'\u001b[0m\u001b[1;33m]\u001b[0m\u001b[1;33m)\u001b[0m\u001b[1;33m.\u001b[0m\u001b[0mdayofyear\u001b[0m\u001b[1;33m\u001b[0m\u001b[0m\n\u001b[0m\u001b[0;32m     12\u001b[0m \u001b[1;33m\u001b[0m\u001b[0m\n\u001b[0;32m     13\u001b[0m \u001b[0mprint\u001b[0m\u001b[1;33m(\u001b[0m\u001b[0mts\u001b[0m\u001b[1;33m.\u001b[0m\u001b[0mdescribe\u001b[0m\u001b[1;33m(\u001b[0m\u001b[1;33m)\u001b[0m\u001b[1;33m)\u001b[0m\u001b[1;33m\u001b[0m\u001b[0m\n",
      "\u001b[1;32mpandas\\_libs\\tslibs\\timestamps.pyx\u001b[0m in \u001b[0;36mpandas._libs.tslibs.timestamps.Timestamp.__new__\u001b[1;34m()\u001b[0m\n",
      "\u001b[1;32mpandas\\_libs\\tslibs\\conversion.pyx\u001b[0m in \u001b[0;36mpandas._libs.tslibs.conversion.convert_to_tsobject\u001b[1;34m()\u001b[0m\n",
      "\u001b[1;31mTypeError\u001b[0m: Cannot convert input [0         2017-12-01 00:00:00\n1         2017-12-01 00:01:00\n2         2017-12-01 00:02:00\n3         2017-12-01 00:03:00\n4         2017-12-01 00:04:00\n5         2017-12-01 00:05:00\n6         2017-12-01 00:06:00\n7         2017-12-01 00:07:00\n8         2017-12-01 00:08:00\n9         2017-12-01 00:09:00\n10        2017-12-01 00:10:00\n11        2017-12-01 00:11:00\n12        2017-12-01 00:12:00\n13        2017-12-01 00:13:00\n14        2017-12-01 00:14:00\n15        2017-12-01 00:15:00\n16        2017-12-01 00:16:00\n17        2017-12-01 00:17:00\n18        2017-12-01 00:18:00\n19        2017-12-01 00:19:00\n20        2017-12-01 00:20:00\n21        2017-12-01 00:21:00\n22        2017-12-01 00:22:00\n23        2017-12-01 00:23:00\n24        2017-12-01 00:24:00\n25        2017-12-01 00:25:00\n26        2017-12-01 00:26:00\n27        2017-12-01 00:27:00\n28        2017-12-01 00:28:00\n29        2017-12-01 00:29:00\n                  ...        \n3808686   2017-12-31 22:31:00\n3808687   2017-12-31 22:34:00\n3808688   2017-12-31 22:37:00\n3808689   2017-12-31 22:40:00\n3808690   2017-12-31 22:43:00\n3808691   2017-12-31 22:46:00\n3808692   2017-12-31 22:49:00\n3808693   2017-12-31 22:52:00\n3808694   2017-12-31 22:55:00\n3808695   2017-12-31 22:58:00\n3808696   2017-12-31 23:01:00\n3808697   2017-12-31 23:04:00\n3808698   2017-12-31 23:07:00\n3808699   2017-12-31 23:10:00\n3808700   2017-12-31 23:13:00\n3808701   2017-12-31 23:16:00\n3808702   2017-12-31 23:19:00\n3808703   2017-12-31 23:22:00\n3808704   2017-12-31 23:25:00\n3808705   2017-12-31 23:28:00\n3808706   2017-12-31 23:31:00\n3808707   2017-12-31 23:34:00\n3808708   2017-12-31 23:37:00\n3808709   2017-12-31 23:40:00\n3808710   2017-12-31 23:43:00\n3808711   2017-12-31 23:46:00\n3808712   2017-12-31 23:49:00\n3808713   2017-12-31 23:52:00\n3808714   2017-12-31 23:55:00\n3808715   2017-12-31 23:58:00\nName: Tid, Length: 3720313, dtype: datetime64[ns]] of type <class 'pandas.core.series.Series'> to Timestamp"
     ]
    }
   ],
   "source": [
    "import time\n",
    "from datetime import datetime\n",
    "import pandas as pd\n",
    "# print(in_port2['Tid'].apply(lambda x: pd.to_datetime(x).to_period('D')))\n",
    "print(in_port2['Tid'].describe())\n",
    "\n",
    "print(np.datetime64('2012-05-01T01:00:00.000000'))\n",
    "\n",
    "# pandas.Timestamp(numpy.datetime64('2012-05-01T01:00:00.000000')).dayofyear\n",
    "\n",
    "ts = pd.Timestamp(in_port2['Tid']).dayofyear\n",
    "\n",
    "print(ts.describe())\n",
    "print(ts.head())\n",
    "\n",
    "# test = pd.to_datetime(in_port2['Tid'])\n",
    "# print(test.describe())\n",
    "# print(test.head())"
   ]
  },
  {
   "cell_type": "code",
   "execution_count": 81,
   "metadata": {},
   "outputs": [
    {
     "name": "stdout",
     "output_type": "stream",
     "text": [
      "<class 'pandas.core.frame.DataFrame'>\n",
      "(3720313, 32)\n",
      "            Id                 Tid  Aisnum  Repeat   Userid  Status  Rot  Sog  \\\n",
      "0  14238916187 2017-12-01 00:00:00       1       0  2190045      15  128    0   \n",
      "1  14238923698 2017-12-01 00:01:00       1       0  2190045      15  128    0   \n",
      "2  14238939086 2017-12-01 00:02:00       1       0  2190045      15  128    0   \n",
      "3  14238954392 2017-12-01 00:03:00       1       0  2190045      15  128    0   \n",
      "4  14238969703 2017-12-01 00:04:00       1       0  2190045      15  128    0   \n",
      "\n",
      "   Posacc   Cog                ...                    FEATSTATUS  GEOMSTATUS  \\\n",
      "0       0  2179                ...                  Taget i brug     Endelig   \n",
      "1       0  2456                ...                  Taget i brug     Endelig   \n",
      "2       0  3116                ...                  Taget i brug     Endelig   \n",
      "3       0  2599                ...                  Taget i brug     Endelig   \n",
      "4       0  2976                ...                  Taget i brug     Endelig   \n",
      "\n",
      "   HAVNTYPE  UNDER_MIN  TIMEOF_CRE  TIMEOF_PUB TIMEOF_REV  TIMEOF_EXP  \\\n",
      "0      Kyst          f  2017-11-23  2017-11-23       None  2018-08-30   \n",
      "1      Kyst          f  2017-11-23  2017-11-23       None  2018-08-30   \n",
      "2      Kyst          f  2017-11-23  2017-11-23       None  2018-08-30   \n",
      "3      Kyst          f  2017-11-23  2017-11-23       None  2018-08-30   \n",
      "4      Kyst          f  2017-11-23  2017-11-23       None  2018-08-30   \n",
      "\n",
      "                                      geometry_right  \\\n",
      "0  LINESTRING Z (8.481258162366258 55.45205150825...   \n",
      "1  LINESTRING Z (8.481258162366258 55.45205150825...   \n",
      "2  LINESTRING Z (8.481258162366258 55.45205150825...   \n",
      "3  LINESTRING Z (8.481258162366258 55.45205150825...   \n",
      "4  LINESTRING Z (8.481258162366258 55.45205150825...   \n",
      "\n",
      "                            geometry  \n",
      "0  POINT (8.423299999999999 55.4718)  \n",
      "1  POINT (8.423299999999999 55.4718)  \n",
      "2  POINT (8.423299999999999 55.4718)  \n",
      "3  POINT (8.423299999999999 55.4718)  \n",
      "4  POINT (8.423400000000001 55.4718)  \n",
      "\n",
      "[5 rows x 32 columns]\n",
      "Empty DataFrame\n",
      "Columns: [Id, Tid, Aisnum, Repeat, Userid, Status, Rot, Sog, Posacc, Cog, Thead, Manind, Lon, Lat, Stype, Navn, geometry_left, index_right, FOT_ID, MOB_ID, FEAT_KODE, FEAT_TYPE, FEATSTATUS, GEOMSTATUS, HAVNTYPE, UNDER_MIN, TIMEOF_CRE, TIMEOF_PUB, TIMEOF_REV, TIMEOF_EXP, geometry_right, geometry]\n",
      "Index: []\n",
      "\n",
      "[0 rows x 32 columns]\n",
      "<bound method NDFrame.describe of 0         2017-12-01 00:00:00\n",
      "1         2017-12-01 00:01:00\n",
      "2         2017-12-01 00:02:00\n",
      "3         2017-12-01 00:03:00\n",
      "4         2017-12-01 00:04:00\n",
      "5         2017-12-01 00:05:00\n",
      "6         2017-12-01 00:06:00\n",
      "7         2017-12-01 00:07:00\n",
      "8         2017-12-01 00:08:00\n",
      "9         2017-12-01 00:09:00\n",
      "10        2017-12-01 00:10:00\n",
      "11        2017-12-01 00:11:00\n",
      "12        2017-12-01 00:12:00\n",
      "13        2017-12-01 00:13:00\n",
      "14        2017-12-01 00:14:00\n",
      "15        2017-12-01 00:15:00\n",
      "16        2017-12-01 00:16:00\n",
      "17        2017-12-01 00:17:00\n",
      "18        2017-12-01 00:18:00\n",
      "19        2017-12-01 00:19:00\n",
      "20        2017-12-01 00:20:00\n",
      "21        2017-12-01 00:21:00\n",
      "22        2017-12-01 00:22:00\n",
      "23        2017-12-01 00:23:00\n",
      "24        2017-12-01 00:24:00\n",
      "25        2017-12-01 00:25:00\n",
      "26        2017-12-01 00:26:00\n",
      "27        2017-12-01 00:27:00\n",
      "28        2017-12-01 00:28:00\n",
      "29        2017-12-01 00:29:00\n",
      "                  ...        \n",
      "3808686   2017-12-31 22:31:00\n",
      "3808687   2017-12-31 22:34:00\n",
      "3808688   2017-12-31 22:37:00\n",
      "3808689   2017-12-31 22:40:00\n",
      "3808690   2017-12-31 22:43:00\n",
      "3808691   2017-12-31 22:46:00\n",
      "3808692   2017-12-31 22:49:00\n",
      "3808693   2017-12-31 22:52:00\n",
      "3808694   2017-12-31 22:55:00\n",
      "3808695   2017-12-31 22:58:00\n",
      "3808696   2017-12-31 23:01:00\n",
      "3808697   2017-12-31 23:04:00\n",
      "3808698   2017-12-31 23:07:00\n",
      "3808699   2017-12-31 23:10:00\n",
      "3808700   2017-12-31 23:13:00\n",
      "3808701   2017-12-31 23:16:00\n",
      "3808702   2017-12-31 23:19:00\n",
      "3808703   2017-12-31 23:22:00\n",
      "3808704   2017-12-31 23:25:00\n",
      "3808705   2017-12-31 23:28:00\n",
      "3808706   2017-12-31 23:31:00\n",
      "3808707   2017-12-31 23:34:00\n",
      "3808708   2017-12-31 23:37:00\n",
      "3808709   2017-12-31 23:40:00\n",
      "3808710   2017-12-31 23:43:00\n",
      "3808711   2017-12-31 23:46:00\n",
      "3808712   2017-12-31 23:49:00\n",
      "3808713   2017-12-31 23:52:00\n",
      "3808714   2017-12-31 23:55:00\n",
      "3808715   2017-12-31 23:58:00\n",
      "Name: Tid, Length: 3720313, dtype: datetime64[ns]>\n"
     ]
    }
   ],
   "source": [
    "import numpy as np\n",
    "print(type(in_port))\n",
    "print(in_port.shape)\n",
    "print(in_port.head())\n",
    "print(in_port[in_port['FOT_ID']!=1113091071].head())\n",
    "\n",
    "in_port = in_port[in_port['FOT_ID']==1113091071]\n",
    "\n",
    "print(in_port2.Tid.describe)"
   ]
  },
  {
   "cell_type": "code",
   "execution_count": 38,
   "metadata": {},
   "outputs": [
    {
     "name": "stdout",
     "output_type": "stream",
     "text": [
      "0    False\n",
      "1    False\n",
      "2    False\n",
      "3    False\n",
      "4    False\n",
      "dtype: bool\n",
      "(3808716,)\n",
      "(1, 19)\n",
      "      index  index_left           Id                 Tid  Aisnum  Repeat  \\\n",
      "3266   3266       75868  14244819631 2017-12-01 06:23:00       3       0   \n",
      "\n",
      "         Userid  Status  Rot  Sog  Posacc  Cog  Thead  Manind     Lon  \\\n",
      "3266  219000603       0    0    0       1    0      4       0  8.4419   \n",
      "\n",
      "          Lat  Stype                  Navn                geometry  \n",
      "3266  55.4615      6  MENJA   @@@@@@@@@@@@  POINT (8.4419 55.4615)  \n",
      "<class 'geopandas.geodataframe.GeoDataFrame'>\n"
     ]
    },
    {
     "data": {
      "text/plain": [
       "1"
      ]
     },
     "execution_count": 38,
     "metadata": {},
     "output_type": "execute_result"
    }
   ],
   "source": [
    "print(tf.head())\n",
    "print(tf.shape)\n",
    "print(in_port.shape)\n",
    "print (in_port.head())\n",
    "\n",
    "print(type(in_port))\n",
    "\n",
    "tf.sum()\n"
   ]
  }
 ],
 "metadata": {
  "kernelspec": {
   "display_name": "Python 3",
   "language": "python",
   "name": "python3"
  },
  "language_info": {
   "codemirror_mode": {
    "name": "ipython",
    "version": 3
   },
   "file_extension": ".py",
   "mimetype": "text/x-python",
   "name": "python",
   "nbconvert_exporter": "python",
   "pygments_lexer": "ipython3",
   "version": "3.6.5"
  }
 },
 "nbformat": 4,
 "nbformat_minor": 2
}
